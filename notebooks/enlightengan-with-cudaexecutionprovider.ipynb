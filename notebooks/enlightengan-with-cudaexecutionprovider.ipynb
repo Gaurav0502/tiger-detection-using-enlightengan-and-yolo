{
 "cells": [
  {
   "cell_type": "code",
   "execution_count": 1,
   "id": "6390378c",
   "metadata": {
    "execution": {
     "iopub.execute_input": "2023-10-03T15:19:47.482873Z",
     "iopub.status.busy": "2023-10-03T15:19:47.482338Z",
     "iopub.status.idle": "2023-10-03T15:20:13.600065Z",
     "shell.execute_reply": "2023-10-03T15:20:13.598700Z"
    },
    "papermill": {
     "duration": 26.124112,
     "end_time": "2023-10-03T15:20:13.602412",
     "exception": false,
     "start_time": "2023-10-03T15:19:47.478300",
     "status": "completed"
    },
    "tags": []
   },
   "outputs": [
    {
     "name": "stdout",
     "output_type": "stream",
     "text": [
      "Collecting git+https://github.com/arsenyinfo/EnlightenGAN-inference\r\n",
      "  Cloning https://github.com/arsenyinfo/EnlightenGAN-inference to /tmp/pip-req-build-1o8zop6e\r\n",
      "  Running command git clone --filter=blob:none --quiet https://github.com/arsenyinfo/EnlightenGAN-inference /tmp/pip-req-build-1o8zop6e\r\n",
      "  Resolved https://github.com/arsenyinfo/EnlightenGAN-inference to commit 6b68a71f0b973912cffad25bff243b28530de823\r\n",
      "  Preparing metadata (setup.py) ... \u001b[?25ldone\r\n",
      "\u001b[?25hRequirement already satisfied: numpy in /opt/conda/lib/python3.10/site-packages (from enlighten-inference==0.0.1) (1.23.5)\r\n",
      "Collecting onnxruntime (from enlighten-inference==0.0.1)\r\n",
      "  Downloading onnxruntime-1.16.0-cp310-cp310-manylinux_2_17_x86_64.manylinux2014_x86_64.whl (6.2 MB)\r\n",
      "\u001b[2K     \u001b[90m━━━━━━━━━━━━━━━━━━━━━━━━━━━━━━━━━━━━━━━━\u001b[0m \u001b[32m6.2/6.2 MB\u001b[0m \u001b[31m55.9 MB/s\u001b[0m eta \u001b[36m0:00:00\u001b[0m\r\n",
      "\u001b[?25hCollecting coloredlogs (from onnxruntime->enlighten-inference==0.0.1)\r\n",
      "  Downloading coloredlogs-15.0.1-py2.py3-none-any.whl (46 kB)\r\n",
      "\u001b[2K     \u001b[90m━━━━━━━━━━━━━━━━━━━━━━━━━━━━━━━━━━━━━━━━\u001b[0m \u001b[32m46.0/46.0 kB\u001b[0m \u001b[31m4.4 MB/s\u001b[0m eta \u001b[36m0:00:00\u001b[0m\r\n",
      "\u001b[?25hRequirement already satisfied: flatbuffers in /opt/conda/lib/python3.10/site-packages (from onnxruntime->enlighten-inference==0.0.1) (23.5.26)\r\n",
      "Requirement already satisfied: packaging in /opt/conda/lib/python3.10/site-packages (from onnxruntime->enlighten-inference==0.0.1) (21.3)\r\n",
      "Requirement already satisfied: protobuf in /opt/conda/lib/python3.10/site-packages (from onnxruntime->enlighten-inference==0.0.1) (3.20.3)\r\n",
      "Requirement already satisfied: sympy in /opt/conda/lib/python3.10/site-packages (from onnxruntime->enlighten-inference==0.0.1) (1.12)\r\n",
      "Collecting humanfriendly>=9.1 (from coloredlogs->onnxruntime->enlighten-inference==0.0.1)\r\n",
      "  Downloading humanfriendly-10.0-py2.py3-none-any.whl (86 kB)\r\n",
      "\u001b[2K     \u001b[90m━━━━━━━━━━━━━━━━━━━━━━━━━━━━━━━━━━━━━━━━\u001b[0m \u001b[32m86.8/86.8 kB\u001b[0m \u001b[31m8.2 MB/s\u001b[0m eta \u001b[36m0:00:00\u001b[0m\r\n",
      "\u001b[?25hRequirement already satisfied: pyparsing!=3.0.5,>=2.0.2 in /opt/conda/lib/python3.10/site-packages (from packaging->onnxruntime->enlighten-inference==0.0.1) (3.0.9)\r\n",
      "Requirement already satisfied: mpmath>=0.19 in /opt/conda/lib/python3.10/site-packages (from sympy->onnxruntime->enlighten-inference==0.0.1) (1.3.0)\r\n",
      "Building wheels for collected packages: enlighten-inference\r\n",
      "  Building wheel for enlighten-inference (setup.py) ... \u001b[?25l-\b \bdone\r\n",
      "\u001b[?25h  Created wheel for enlighten-inference: filename=enlighten_inference-0.0.1-py3-none-any.whl size=32090887 sha256=bb9fa50cf93aacce0e7cdb5f1c2682a2d34477eb47df0932882ddd634a3a10a1\r\n",
      "  Stored in directory: /tmp/pip-ephem-wheel-cache-nzs78cpb/wheels/96/57/e0/1fca48b2fd0cfab44444c05489464220cff173fbcfb3edd2a5\r\n",
      "Successfully built enlighten-inference\r\n",
      "Installing collected packages: humanfriendly, coloredlogs, onnxruntime, enlighten-inference\r\n",
      "Successfully installed coloredlogs-15.0.1 enlighten-inference-0.0.1 humanfriendly-10.0 onnxruntime-1.16.0\r\n"
     ]
    }
   ],
   "source": [
    "!pip install git+https://github.com/arsenyinfo/EnlightenGAN-inference"
   ]
  },
  {
   "cell_type": "code",
   "execution_count": 2,
   "id": "68a1de70",
   "metadata": {
    "execution": {
     "iopub.execute_input": "2023-10-03T15:20:13.610648Z",
     "iopub.status.busy": "2023-10-03T15:20:13.610360Z",
     "iopub.status.idle": "2023-10-03T15:20:15.314884Z",
     "shell.execute_reply": "2023-10-03T15:20:15.313748Z"
    },
    "papermill": {
     "duration": 1.710972,
     "end_time": "2023-10-03T15:20:15.317138",
     "exception": false,
     "start_time": "2023-10-03T15:20:13.606166",
     "status": "completed"
    },
    "tags": []
   },
   "outputs": [
    {
     "name": "stdout",
     "output_type": "stream",
     "text": [
      "Found existing installation: onnxruntime 1.16.0\r\n",
      "Uninstalling onnxruntime-1.16.0:\r\n",
      "  Successfully uninstalled onnxruntime-1.16.0\r\n"
     ]
    }
   ],
   "source": [
    "!pip uninstall onnxruntime -y"
   ]
  },
  {
   "cell_type": "code",
   "execution_count": 3,
   "id": "8353151e",
   "metadata": {
    "execution": {
     "iopub.execute_input": "2023-10-03T15:20:15.325478Z",
     "iopub.status.busy": "2023-10-03T15:20:15.325187Z",
     "iopub.status.idle": "2023-10-03T15:20:17.010087Z",
     "shell.execute_reply": "2023-10-03T15:20:17.009032Z"
    },
    "papermill": {
     "duration": 1.691401,
     "end_time": "2023-10-03T15:20:17.012102",
     "exception": false,
     "start_time": "2023-10-03T15:20:15.320701",
     "status": "completed"
    },
    "tags": []
   },
   "outputs": [
    {
     "name": "stdout",
     "output_type": "stream",
     "text": [
      "\u001b[33mWARNING: Skipping onnxruntime-gpu as it is not installed.\u001b[0m\u001b[33m\r\n",
      "\u001b[0m"
     ]
    }
   ],
   "source": [
    "!pip uninstall onnxruntime-gpu -y"
   ]
  },
  {
   "cell_type": "code",
   "execution_count": 4,
   "id": "12cf108a",
   "metadata": {
    "execution": {
     "iopub.execute_input": "2023-10-03T15:20:17.020152Z",
     "iopub.status.busy": "2023-10-03T15:20:17.019850Z",
     "iopub.status.idle": "2023-10-03T15:20:41.894880Z",
     "shell.execute_reply": "2023-10-03T15:20:41.893804Z"
    },
    "papermill": {
     "duration": 24.881496,
     "end_time": "2023-10-03T15:20:41.897030",
     "exception": false,
     "start_time": "2023-10-03T15:20:17.015534",
     "status": "completed"
    },
    "tags": []
   },
   "outputs": [
    {
     "name": "stdout",
     "output_type": "stream",
     "text": [
      "Collecting optimum[onnxruntime-gpu]\r\n",
      "  Downloading optimum-1.13.2.tar.gz (300 kB)\r\n",
      "\u001b[2K     \u001b[90m━━━━━━━━━━━━━━━━━━━━━━━━━━━━━━━━━━━━━━━\u001b[0m \u001b[32m301.0/301.0 kB\u001b[0m \u001b[31m9.4 MB/s\u001b[0m eta \u001b[36m0:00:00\u001b[0m\r\n",
      "\u001b[?25h  Installing build dependencies ... \u001b[?25l-\b \b\\\b \b|\b \b/\b \bdone\r\n",
      "\u001b[?25h  Getting requirements to build wheel ... \u001b[?25l-\b \bdone\r\n",
      "\u001b[?25h  Preparing metadata (pyproject.toml) ... \u001b[?25l-\b \bdone\r\n",
      "\u001b[?25hRequirement already satisfied: coloredlogs in /opt/conda/lib/python3.10/site-packages (from optimum[onnxruntime-gpu]) (15.0.1)\r\n",
      "Requirement already satisfied: sympy in /opt/conda/lib/python3.10/site-packages (from optimum[onnxruntime-gpu]) (1.12)\r\n",
      "Requirement already satisfied: transformers[sentencepiece]>=4.26.0 in /opt/conda/lib/python3.10/site-packages (from optimum[onnxruntime-gpu]) (4.33.0)\r\n",
      "Requirement already satisfied: torch>=1.9 in /opt/conda/lib/python3.10/site-packages (from optimum[onnxruntime-gpu]) (2.0.0)\r\n",
      "Requirement already satisfied: packaging in /opt/conda/lib/python3.10/site-packages (from optimum[onnxruntime-gpu]) (21.3)\r\n",
      "Requirement already satisfied: numpy in /opt/conda/lib/python3.10/site-packages (from optimum[onnxruntime-gpu]) (1.23.5)\r\n",
      "Requirement already satisfied: huggingface-hub>=0.8.0 in /opt/conda/lib/python3.10/site-packages (from optimum[onnxruntime-gpu]) (0.16.4)\r\n",
      "Requirement already satisfied: datasets in /opt/conda/lib/python3.10/site-packages (from optimum[onnxruntime-gpu]) (2.1.0)\r\n",
      "Requirement already satisfied: onnx in /opt/conda/lib/python3.10/site-packages (from optimum[onnxruntime-gpu]) (1.14.1)\r\n",
      "Collecting onnxruntime-gpu>=1.11.0 (from optimum[onnxruntime-gpu])\r\n",
      "  Downloading onnxruntime_gpu-1.16.0-cp310-cp310-manylinux_2_17_x86_64.manylinux2014_x86_64.whl (153.4 MB)\r\n",
      "\u001b[2K     \u001b[90m━━━━━━━━━━━━━━━━━━━━━━━━━━━━━━━━━━━━━━━\u001b[0m \u001b[32m153.4/153.4 MB\u001b[0m \u001b[31m7.2 MB/s\u001b[0m eta \u001b[36m0:00:00\u001b[0m\r\n",
      "\u001b[?25hCollecting evaluate (from optimum[onnxruntime-gpu])\r\n",
      "  Downloading evaluate-0.4.0-py3-none-any.whl (81 kB)\r\n",
      "\u001b[2K     \u001b[90m━━━━━━━━━━━━━━━━━━━━━━━━━━━━━━━━━━━━━━━━\u001b[0m \u001b[32m81.4/81.4 kB\u001b[0m \u001b[31m7.8 MB/s\u001b[0m eta \u001b[36m0:00:00\u001b[0m\r\n",
      "\u001b[?25hRequirement already satisfied: protobuf>=3.20.1 in /opt/conda/lib/python3.10/site-packages (from optimum[onnxruntime-gpu]) (3.20.3)\r\n",
      "Requirement already satisfied: accelerate in /opt/conda/lib/python3.10/site-packages (from optimum[onnxruntime-gpu]) (0.22.0)\r\n",
      "Requirement already satisfied: pyarrow>=5.0.0 in /opt/conda/lib/python3.10/site-packages (from datasets->optimum[onnxruntime-gpu]) (11.0.0)\r\n",
      "Requirement already satisfied: dill in /opt/conda/lib/python3.10/site-packages (from datasets->optimum[onnxruntime-gpu]) (0.3.7)\r\n",
      "Requirement already satisfied: pandas in /opt/conda/lib/python3.10/site-packages (from datasets->optimum[onnxruntime-gpu]) (2.0.2)\r\n",
      "Requirement already satisfied: requests>=2.19.0 in /opt/conda/lib/python3.10/site-packages (from datasets->optimum[onnxruntime-gpu]) (2.31.0)\r\n",
      "Requirement already satisfied: tqdm>=4.62.1 in /opt/conda/lib/python3.10/site-packages (from datasets->optimum[onnxruntime-gpu]) (4.66.1)\r\n",
      "Requirement already satisfied: xxhash in /opt/conda/lib/python3.10/site-packages (from datasets->optimum[onnxruntime-gpu]) (3.3.0)\r\n",
      "Requirement already satisfied: multiprocess in /opt/conda/lib/python3.10/site-packages (from datasets->optimum[onnxruntime-gpu]) (0.70.15)\r\n",
      "Requirement already satisfied: fsspec[http]>=2021.05.0 in /opt/conda/lib/python3.10/site-packages (from datasets->optimum[onnxruntime-gpu]) (2023.9.0)\r\n",
      "Requirement already satisfied: aiohttp in /opt/conda/lib/python3.10/site-packages (from datasets->optimum[onnxruntime-gpu]) (3.8.4)\r\n",
      "Requirement already satisfied: responses<0.19 in /opt/conda/lib/python3.10/site-packages (from datasets->optimum[onnxruntime-gpu]) (0.18.0)\r\n",
      "Requirement already satisfied: filelock in /opt/conda/lib/python3.10/site-packages (from huggingface-hub>=0.8.0->optimum[onnxruntime-gpu]) (3.12.2)\r\n",
      "Requirement already satisfied: pyyaml>=5.1 in /opt/conda/lib/python3.10/site-packages (from huggingface-hub>=0.8.0->optimum[onnxruntime-gpu]) (6.0)\r\n",
      "Requirement already satisfied: typing-extensions>=3.7.4.3 in /opt/conda/lib/python3.10/site-packages (from huggingface-hub>=0.8.0->optimum[onnxruntime-gpu]) (4.6.3)\r\n",
      "Requirement already satisfied: flatbuffers in /opt/conda/lib/python3.10/site-packages (from onnxruntime-gpu>=1.11.0->optimum[onnxruntime-gpu]) (23.5.26)\r\n",
      "Requirement already satisfied: pyparsing!=3.0.5,>=2.0.2 in /opt/conda/lib/python3.10/site-packages (from packaging->optimum[onnxruntime-gpu]) (3.0.9)\r\n",
      "Requirement already satisfied: networkx in /opt/conda/lib/python3.10/site-packages (from torch>=1.9->optimum[onnxruntime-gpu]) (3.1)\r\n",
      "Requirement already satisfied: jinja2 in /opt/conda/lib/python3.10/site-packages (from torch>=1.9->optimum[onnxruntime-gpu]) (3.1.2)\r\n",
      "Requirement already satisfied: regex!=2019.12.17 in /opt/conda/lib/python3.10/site-packages (from transformers[sentencepiece]>=4.26.0->optimum[onnxruntime-gpu]) (2023.6.3)\r\n",
      "Requirement already satisfied: tokenizers!=0.11.3,<0.14,>=0.11.1 in /opt/conda/lib/python3.10/site-packages (from transformers[sentencepiece]>=4.26.0->optimum[onnxruntime-gpu]) (0.13.3)\r\n",
      "Requirement already satisfied: safetensors>=0.3.1 in /opt/conda/lib/python3.10/site-packages (from transformers[sentencepiece]>=4.26.0->optimum[onnxruntime-gpu]) (0.3.3)\r\n",
      "Requirement already satisfied: sentencepiece!=0.1.92,>=0.1.91 in /opt/conda/lib/python3.10/site-packages (from transformers[sentencepiece]>=4.26.0->optimum[onnxruntime-gpu]) (0.1.99)\r\n",
      "Requirement already satisfied: psutil in /opt/conda/lib/python3.10/site-packages (from accelerate->optimum[onnxruntime-gpu]) (5.9.3)\r\n",
      "Requirement already satisfied: humanfriendly>=9.1 in /opt/conda/lib/python3.10/site-packages (from coloredlogs->optimum[onnxruntime-gpu]) (10.0)\r\n",
      "Requirement already satisfied: mpmath>=0.19 in /opt/conda/lib/python3.10/site-packages (from sympy->optimum[onnxruntime-gpu]) (1.3.0)\r\n",
      "Requirement already satisfied: attrs>=17.3.0 in /opt/conda/lib/python3.10/site-packages (from aiohttp->datasets->optimum[onnxruntime-gpu]) (23.1.0)\r\n",
      "Requirement already satisfied: charset-normalizer<4.0,>=2.0 in /opt/conda/lib/python3.10/site-packages (from aiohttp->datasets->optimum[onnxruntime-gpu]) (3.1.0)\r\n",
      "Requirement already satisfied: multidict<7.0,>=4.5 in /opt/conda/lib/python3.10/site-packages (from aiohttp->datasets->optimum[onnxruntime-gpu]) (6.0.4)\r\n",
      "Requirement already satisfied: async-timeout<5.0,>=4.0.0a3 in /opt/conda/lib/python3.10/site-packages (from aiohttp->datasets->optimum[onnxruntime-gpu]) (4.0.2)\r\n",
      "Requirement already satisfied: yarl<2.0,>=1.0 in /opt/conda/lib/python3.10/site-packages (from aiohttp->datasets->optimum[onnxruntime-gpu]) (1.9.2)\r\n",
      "Requirement already satisfied: frozenlist>=1.1.1 in /opt/conda/lib/python3.10/site-packages (from aiohttp->datasets->optimum[onnxruntime-gpu]) (1.3.3)\r\n",
      "Requirement already satisfied: aiosignal>=1.1.2 in /opt/conda/lib/python3.10/site-packages (from aiohttp->datasets->optimum[onnxruntime-gpu]) (1.3.1)\r\n",
      "Requirement already satisfied: idna<4,>=2.5 in /opt/conda/lib/python3.10/site-packages (from requests>=2.19.0->datasets->optimum[onnxruntime-gpu]) (3.4)\r\n",
      "Requirement already satisfied: urllib3<3,>=1.21.1 in /opt/conda/lib/python3.10/site-packages (from requests>=2.19.0->datasets->optimum[onnxruntime-gpu]) (1.26.15)\r\n",
      "Requirement already satisfied: certifi>=2017.4.17 in /opt/conda/lib/python3.10/site-packages (from requests>=2.19.0->datasets->optimum[onnxruntime-gpu]) (2023.7.22)\r\n",
      "Requirement already satisfied: MarkupSafe>=2.0 in /opt/conda/lib/python3.10/site-packages (from jinja2->torch>=1.9->optimum[onnxruntime-gpu]) (2.1.3)\r\n",
      "Requirement already satisfied: python-dateutil>=2.8.2 in /opt/conda/lib/python3.10/site-packages (from pandas->datasets->optimum[onnxruntime-gpu]) (2.8.2)\r\n",
      "Requirement already satisfied: pytz>=2020.1 in /opt/conda/lib/python3.10/site-packages (from pandas->datasets->optimum[onnxruntime-gpu]) (2023.3)\r\n",
      "Requirement already satisfied: tzdata>=2022.1 in /opt/conda/lib/python3.10/site-packages (from pandas->datasets->optimum[onnxruntime-gpu]) (2023.3)\r\n",
      "Requirement already satisfied: six>=1.5 in /opt/conda/lib/python3.10/site-packages (from python-dateutil>=2.8.2->pandas->datasets->optimum[onnxruntime-gpu]) (1.16.0)\r\n",
      "Building wheels for collected packages: optimum\r\n",
      "  Building wheel for optimum (pyproject.toml) ... \u001b[?25l-\b \b\\\b \b|\b \b/\b \bdone\r\n",
      "\u001b[?25h  Created wheel for optimum: filename=optimum-1.13.2-py3-none-any.whl size=395599 sha256=2ac68b3c76d7116d38933bee4c09bbfb47cb1e9d4ba7328ff292853161eeb2f6\r\n",
      "  Stored in directory: /root/.cache/pip/wheels/6e/b7/2c/79405d98f0943373d8546daeae25a3d377f7659ca0cbe48699\r\n",
      "Successfully built optimum\r\n",
      "Installing collected packages: onnxruntime-gpu, optimum, evaluate\r\n",
      "Successfully installed evaluate-0.4.0 onnxruntime-gpu-1.16.0 optimum-1.13.2\r\n"
     ]
    }
   ],
   "source": [
    "!pip install optimum[onnxruntime-gpu]"
   ]
  },
  {
   "cell_type": "code",
   "execution_count": 5,
   "id": "d5c50363",
   "metadata": {
    "execution": {
     "iopub.execute_input": "2023-10-03T15:20:41.912100Z",
     "iopub.status.busy": "2023-10-03T15:20:41.911780Z",
     "iopub.status.idle": "2023-10-03T15:20:45.213786Z",
     "shell.execute_reply": "2023-10-03T15:20:45.212850Z"
    },
    "papermill": {
     "duration": 3.311995,
     "end_time": "2023-10-03T15:20:45.215849",
     "exception": false,
     "start_time": "2023-10-03T15:20:41.903854",
     "status": "completed"
    },
    "tags": []
   },
   "outputs": [],
   "source": [
    "import torch\n",
    "import onnxruntime as ort\n",
    "import os"
   ]
  },
  {
   "cell_type": "code",
   "execution_count": 6,
   "id": "52556753",
   "metadata": {
    "execution": {
     "iopub.execute_input": "2023-10-03T15:20:45.230687Z",
     "iopub.status.busy": "2023-10-03T15:20:45.230352Z",
     "iopub.status.idle": "2023-10-03T15:20:45.236817Z",
     "shell.execute_reply": "2023-10-03T15:20:45.236044Z"
    },
    "papermill": {
     "duration": 0.015586,
     "end_time": "2023-10-03T15:20:45.238518",
     "exception": false,
     "start_time": "2023-10-03T15:20:45.222932",
     "status": "completed"
    },
    "tags": []
   },
   "outputs": [
    {
     "data": {
      "text/plain": [
       "['TensorrtExecutionProvider',\n",
       " 'CUDAExecutionProvider',\n",
       " 'AzureExecutionProvider',\n",
       " 'CPUExecutionProvider']"
      ]
     },
     "execution_count": 6,
     "metadata": {},
     "output_type": "execute_result"
    }
   ],
   "source": [
    "available_providers = ort.get_available_providers()\n",
    "available_providers"
   ]
  },
  {
   "cell_type": "code",
   "execution_count": 7,
   "id": "86272a53",
   "metadata": {
    "execution": {
     "iopub.execute_input": "2023-10-03T15:20:45.252457Z",
     "iopub.status.busy": "2023-10-03T15:20:45.252230Z",
     "iopub.status.idle": "2023-10-03T15:20:57.911998Z",
     "shell.execute_reply": "2023-10-03T15:20:57.911027Z"
    },
    "papermill": {
     "duration": 12.669253,
     "end_time": "2023-10-03T15:20:57.914130",
     "exception": false,
     "start_time": "2023-10-03T15:20:45.244877",
     "status": "completed"
    },
    "tags": []
   },
   "outputs": [],
   "source": [
    "import cv2\n",
    "from enlighten_inference import EnlightenOnnxModel\n",
    "img = cv2.imread('/kaggle/input/tiger-detection-dataset/final_data/dataset/images/test/2409.jpg')\n",
    "model = EnlightenOnnxModel()\n",
    "\n",
    "processed = model.predict(img)"
   ]
  },
  {
   "cell_type": "code",
   "execution_count": 8,
   "id": "5dbee14b",
   "metadata": {
    "execution": {
     "iopub.execute_input": "2023-10-03T15:20:57.929256Z",
     "iopub.status.busy": "2023-10-03T15:20:57.928931Z",
     "iopub.status.idle": "2023-10-03T15:20:57.934770Z",
     "shell.execute_reply": "2023-10-03T15:20:57.933969Z"
    },
    "papermill": {
     "duration": 0.015377,
     "end_time": "2023-10-03T15:20:57.936510",
     "exception": false,
     "start_time": "2023-10-03T15:20:57.921133",
     "status": "completed"
    },
    "tags": []
   },
   "outputs": [],
   "source": [
    "working_dir = \"/kaggle/working/\"\n",
    "os.mkdir(\"images\")\n",
    "os.mkdir(\"labels\")\n",
    "os.chdir(os.path.join(working_dir, \"images\"))\n",
    "os.mkdir(\"train\")\n",
    "os.mkdir(\"test\")\n",
    "os.mkdir(\"val\")\n",
    "os.chdir(os.path.join(working_dir, \"labels\"))\n",
    "os.mkdir(\"train\")\n",
    "os.mkdir(\"test\")\n",
    "os.mkdir(\"val\")"
   ]
  },
  {
   "cell_type": "code",
   "execution_count": 9,
   "id": "b337ab4c",
   "metadata": {
    "execution": {
     "iopub.execute_input": "2023-10-03T15:20:57.951021Z",
     "iopub.status.busy": "2023-10-03T15:20:57.950751Z",
     "iopub.status.idle": "2023-10-03T15:20:57.956363Z",
     "shell.execute_reply": "2023-10-03T15:20:57.955502Z"
    },
    "papermill": {
     "duration": 0.014597,
     "end_time": "2023-10-03T15:20:57.957970",
     "exception": false,
     "start_time": "2023-10-03T15:20:57.943373",
     "status": "completed"
    },
    "tags": []
   },
   "outputs": [],
   "source": [
    "class Illuminate:\n",
    "    \n",
    "    def __init__(self, dataset_dir : str):\n",
    "        self.dataset_dir = dataset_dir\n",
    "        self.model = EnlightenOnnxModel()\n",
    "        self.img = None\n",
    "        self.processed = None\n",
    "        \n",
    "    def illuminate_dataset(self):\n",
    "        \n",
    "        for split in os.listdir(self.dataset_dir):\n",
    "            for img_file in os.listdir(os.path.join(self.dataset_dir, split)):\n",
    "                img_path = os.path.join(self.dataset_dir, split, img_file)\n",
    "                self.img = cv2.imread(img_path)\n",
    "                self.processed = self.model.predict(self.img)\n",
    "                new_dataset_dir = \"/kaggle/working/images\"\n",
    "                #print(os.path.join(new_dataset_dir, split, img_file))\n",
    "                cv2.imwrite(os.path.join(new_dataset_dir, split, img_file), self.processed)"
   ]
  },
  {
   "cell_type": "code",
   "execution_count": 10,
   "id": "9bf20d18",
   "metadata": {
    "execution": {
     "iopub.execute_input": "2023-10-03T15:20:57.972086Z",
     "iopub.status.busy": "2023-10-03T15:20:57.971598Z",
     "iopub.status.idle": "2023-10-03T15:20:58.042070Z",
     "shell.execute_reply": "2023-10-03T15:20:58.041173Z"
    },
    "papermill": {
     "duration": 0.079444,
     "end_time": "2023-10-03T15:20:58.043824",
     "exception": false,
     "start_time": "2023-10-03T15:20:57.964380",
     "status": "completed"
    },
    "tags": []
   },
   "outputs": [],
   "source": [
    "enlighten = Illuminate(\"/kaggle/input/tiger-detection-dataset/final_data/dataset/images\")"
   ]
  },
  {
   "cell_type": "code",
   "execution_count": 11,
   "id": "66f9bb5c",
   "metadata": {
    "execution": {
     "iopub.execute_input": "2023-10-03T15:20:58.060549Z",
     "iopub.status.busy": "2023-10-03T15:20:58.059492Z",
     "iopub.status.idle": "2023-10-03T15:41:58.697152Z",
     "shell.execute_reply": "2023-10-03T15:41:58.696178Z"
    },
    "papermill": {
     "duration": 1260.648848,
     "end_time": "2023-10-03T15:41:58.699519",
     "exception": false,
     "start_time": "2023-10-03T15:20:58.050671",
     "status": "completed"
    },
    "tags": []
   },
   "outputs": [],
   "source": [
    "enlighten.illuminate_dataset()"
   ]
  },
  {
   "cell_type": "code",
   "execution_count": null,
   "id": "06009554",
   "metadata": {
    "papermill": {
     "duration": 0.006437,
     "end_time": "2023-10-03T15:41:58.713260",
     "exception": false,
     "start_time": "2023-10-03T15:41:58.706823",
     "status": "completed"
    },
    "tags": []
   },
   "outputs": [],
   "source": []
  }
 ],
 "metadata": {
  "kernelspec": {
   "display_name": "Python 3",
   "language": "python",
   "name": "python3"
  },
  "language_info": {
   "codemirror_mode": {
    "name": "ipython",
    "version": 3
   },
   "file_extension": ".py",
   "mimetype": "text/x-python",
   "name": "python",
   "nbconvert_exporter": "python",
   "pygments_lexer": "ipython3",
   "version": "3.10.12"
  },
  "papermill": {
   "default_parameters": {},
   "duration": 1335.892683,
   "end_time": "2023-10-03T15:42:00.443444",
   "environment_variables": {},
   "exception": null,
   "input_path": "__notebook__.ipynb",
   "output_path": "__notebook__.ipynb",
   "parameters": {},
   "start_time": "2023-10-03T15:19:44.550761",
   "version": "2.4.0"
  }
 },
 "nbformat": 4,
 "nbformat_minor": 5
}
